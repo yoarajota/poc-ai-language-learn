{
 "cells": [
  {
   "cell_type": "markdown",
   "id": "b4adaf71",
   "metadata": {},
   "source": [
    "# Grapheme-to-Phoneme Models:\n",
    "\n",
    "## Try n1: SoundChoice: Grapheme-to-Phoneme Model Summary\n",
    "\n",
    "The **SoundChoice G2P model** is a pretrained grapheme-to-phoneme (G2P) conversion tool for English, built using the **SpeechBrain** framework. It converts written text (graphemes) into phonetic representations (phonemes) and includes semantic disambiguation for improved accuracy. The model is trained on the **LibriG2P dataset**, derived from LibriSpeech Alignments and Google Wikipedia data.\n",
    "\n",
    "### Key Features\n",
    "- **Purpose**: Converts English text into phoneme sequences (e.g., \"To be or not to be\" → ['T', 'UW', ' ', 'B', 'IY', ...]).\n",
    "- **Framework**: Built with SpeechBrain, a general-purpose speech toolkit.\n",
    "- **Usage**: Supports single text or batch processing (e.g., multiple sentences at once).\n",
    "- **GPU Support**: Inference can be accelerated using CUDA with `run_opts={\"device\":\"cuda\"}`.\n",
    "- **Installation**: Requires `speechbrain` and `transformers` via pip."
   ]
  },
  {
   "cell_type": "code",
   "execution_count": 1,
   "id": "c16cca45",
   "metadata": {},
   "outputs": [
    {
     "ename": "ModuleNotFoundError",
     "evalue": "No module named 'speechbrain'",
     "output_type": "error",
     "traceback": [
      "\u001b[31m---------------------------------------------------------------------------\u001b[39m",
      "\u001b[31mModuleNotFoundError\u001b[39m                       Traceback (most recent call last)",
      "\u001b[36mCell\u001b[39m\u001b[36m \u001b[39m\u001b[32mIn[1]\u001b[39m\u001b[32m, line 1\u001b[39m\n\u001b[32m----> \u001b[39m\u001b[32m1\u001b[39m \u001b[38;5;28;01mfrom\u001b[39;00m\u001b[38;5;250m \u001b[39m\u001b[34;01mspeechbrain\u001b[39;00m\u001b[34;01m.\u001b[39;00m\u001b[34;01minference\u001b[39;00m\u001b[34;01m.\u001b[39;00m\u001b[34;01mtext\u001b[39;00m\u001b[38;5;250m \u001b[39m\u001b[38;5;28;01mimport\u001b[39;00m GraphemeToPhoneme\n\u001b[32m      3\u001b[39m g2p = GraphemeToPhoneme.from_hparams(\u001b[33m\"\u001b[39m\u001b[33mspeechbrain/soundchoice-g2p\u001b[39m\u001b[33m\"\u001b[39m)\n\u001b[32m      4\u001b[39m text = \u001b[33m\"\u001b[39m\u001b[33mTo be or not to be\u001b[39m\u001b[33m\"\u001b[39m\n",
      "\u001b[31mModuleNotFoundError\u001b[39m: No module named 'speechbrain'"
     ]
    }
   ],
   "source": [
    "from speechbrain.inference.text import GraphemeToPhoneme\n",
    "\n",
    "g2p = GraphemeToPhoneme.from_hparams(\"speechbrain/soundchoice-g2p\")\n",
    "text = \"To be or not to be\"\n",
    "phonemes = g2p(text)\n",
    "# Output: ['T', 'UW', ' ', 'B', 'IY', ...]"
   ]
  }
 ],
 "metadata": {
  "kernelspec": {
   "display_name": "Python 3",
   "language": "python",
   "name": "python3"
  },
  "language_info": {
   "codemirror_mode": {
    "name": "ipython",
    "version": 3
   },
   "file_extension": ".py",
   "mimetype": "text/x-python",
   "name": "python",
   "nbconvert_exporter": "python",
   "pygments_lexer": "ipython3",
   "version": "3.12.10"
  }
 },
 "nbformat": 4,
 "nbformat_minor": 5
}
